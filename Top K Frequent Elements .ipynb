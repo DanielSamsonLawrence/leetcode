{
 "cells": [
  {
   "cell_type": "markdown",
   "id": "81e05a50",
   "metadata": {},
   "source": [
    "Given an integer array nums and an integer k, return the k most frequent elements. You may return the answer in any order"
   ]
  },
  {
   "cell_type": "markdown",
   "id": "4a02f118",
   "metadata": {},
   "source": [
    "Example 1:\n",
    "\n",
    "Input: nums = [1,1,1,2,2,3], k = 2\n",
    "Output: [1,2]\n"
   ]
  },
  {
   "cell_type": "raw",
   "id": "38b9789b",
   "metadata": {},
   "source": []
  },
  {
   "cell_type": "code",
   "execution_count": 13,
   "id": "5cd47ff4",
   "metadata": {},
   "outputs": [],
   "source": [
    "from collections import Counter \n",
    "import heapq\n",
    "\n",
    "def topKfrequent(nums,k):\n",
    "    count=Counter(nums)\n",
    "    \n",
    "    most_frequent=heapq.nlargest(k,count.keys(),key=count.get)\n",
    "    \n",
    "    return most_frequent\n",
    "\n"
   ]
  },
  {
   "cell_type": "code",
   "execution_count": 15,
   "id": "7e66ba49",
   "metadata": {},
   "outputs": [
    {
     "name": "stdout",
     "output_type": "stream",
     "text": [
      "[1, 2]\n"
     ]
    }
   ],
   "source": [
    "\n",
    "nums = [1, 1, 1, 2, 2, 3]\n",
    "k = 2\n",
    "print(topKfrequent(nums, k))"
   ]
  },
  {
   "cell_type": "markdown",
   "id": "4b72e956",
   "metadata": {},
   "source": [
    "This solution is efficient with a time complexity of O(Nlog⁡k),\n",
    "where N is the number of elements in the nums list,\n",
    "and k is the number of most frequent elements to find.\n",
    "The space complexity is O(N) due to the frequency dictionary."
   ]
  },
  {
   "cell_type": "markdown",
   "id": "dbfaa4a4",
   "metadata": {},
   "source": []
  }
 ],
 "metadata": {
  "kernelspec": {
   "display_name": "Python 3 (ipykernel)",
   "language": "python",
   "name": "python3"
  },
  "language_info": {
   "codemirror_mode": {
    "name": "ipython",
    "version": 3
   },
   "file_extension": ".py",
   "mimetype": "text/x-python",
   "name": "python",
   "nbconvert_exporter": "python",
   "pygments_lexer": "ipython3",
   "version": "3.11.5"
  }
 },
 "nbformat": 4,
 "nbformat_minor": 5
}
